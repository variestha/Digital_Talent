{
 "cells": [
  {
   "cell_type": "markdown",
   "metadata": {},
   "source": [
    "# Nilai Random"
   ]
  },
  {
   "cell_type": "code",
   "execution_count": 17,
   "metadata": {},
   "outputs": [
    {
     "name": "stdout",
     "output_type": "stream",
     "text": [
      "List Nilai= [46, 13, 1, 93, 17, 88, 48, 48, 73, 63, 77, 72, 16, 5, 37, 52, 98, 6, 43, 85, 27, 90, 20, 93, 34, 45, 57, 21, 28, 24, 65, 1, 53, 79, 20, 53, 46, 81, 98, 4, 77, 24, 97, 93, 40, 11, 1, 51, 70, 57, 79, 3, 89, 37, 98, 47, 56, 63, 52, 61, 84, 53, 94, 98, 81, 73, 26, 40, 3, 90, 78, 34, 29, 20, 88, 56, 85, 95, 76, 20, 27, 39, 30, 10, 97, 98, 86, 15, 7, 23, 61, 18, 92, 16, 64, 67, 73, 23, 40, 83, 54, 2, 96, 93, 70, 87, 26, 44, 86, 65, 25, 25, 69, 42, 13, 12, 59, 96, 15, 9, 26, 37, 39, 70, 43, 71, 55, 36, 73, 45, 19, 56, 60, 75, 9, 79, 26, 42, 93, 72, 54, 54, 73, 9, 13, 17, 66, 58, 38, 8, 72, 72, 9, 73, 54, 94, 18, 34, 39, 18, 5, 41, 55, 47, 82, 11, 92, 92, 51, 38, 76, 10, 93, 5, 96, 47, 33, 63, 79, 29, 36, 99, 73, 29, 14, 15, 66, 16, 88, 18, 45, 21, 55, 11, 83, 6, 56, 72, 96, 67, 60, 98, 79, 32, 43, 64, 17, 57, 88, 46, 80, 47, 58, 83, 63, 95, 6, 39, 71, 87, 23, 39, 69, 88, 58, 55, 56, 50, 46, 40, 14, 9, 79, 98, 26, 77, 50, 41, 50, 76, 50, 70, 57, 11, 84, 86, 60, 31, 36, 52]\n"
     ]
    }
   ],
   "source": [
    "import random\n",
    "taskValue=[]\n",
    "for v in range(250):\n",
    "    taskValue.append(random.randrange(1,100,1))\n",
    "print(\"List Nilai=\",taskValue)"
   ]
  },
  {
   "cell_type": "markdown",
   "metadata": {},
   "source": [
    "# Menampilkan Nilai Ganjil dari Nilai 250"
   ]
  },
  {
   "cell_type": "code",
   "execution_count": 18,
   "metadata": {},
   "outputs": [
    {
     "name": "stdout",
     "output_type": "stream",
     "text": [
      "List Angka Ganjil dari nilai 250 :\n",
      "[13, 1, 93, 17, 73, 63, 77, 5, 37, 43, 85, 27, 93, 45, 57, 21, 65, 1, 53, 79, 53, 81, 77, 97, 93, 11, 1, 51, 57, 79, 3, 89, 37, 47, 63, 61, 53, 81, 73, 3, 29, 85, 95, 27, 39, 97, 15, 7, 23, 61, 67, 73, 23, 83, 93, 87, 65, 25, 25, 69, 13, 59, 15, 9, 37, 39, 43, 71, 55, 73, 45, 19, 75, 9, 79, 93, 73, 9, 13, 17, 9, 73, 39, 5, 41, 55, 47, 11, 51, 93, 5, 47, 33, 63, 79, 29, 99, 73, 29, 15, 45, 21, 55, 11, 83, 67, 79, 43, 17, 57, 47, 83, 63, 95, 39, 71, 87, 23, 39, 69, 55, 9, 79, 77, 41, 57, 11, 31]\n"
     ]
    }
   ],
   "source": [
    "##1.Menampilkan Angka Ganjil dari nilai 250  \n",
    "oddNumber=[]\n",
    "\n",
    "for o in taskValue:\n",
    "    if o %2 != 0:\n",
    "        oddNumber.append(o)\n",
    "print (\"List Angka Ganjil dari nilai 250 :\")\n",
    "print (oddNumber)"
   ]
  },
  {
   "cell_type": "markdown",
   "metadata": {},
   "source": [
    "# Nilai Lebih dari 70"
   ]
  },
  {
   "cell_type": "code",
   "execution_count": 13,
   "metadata": {},
   "outputs": [
    {
     "name": "stdout",
     "output_type": "stream",
     "text": [
      "List dari nilai yang lebih dari 70 adalah:\n",
      "[149, 94, 139, 127, 148, 117, 76, 93, 86, 115, 98, 112, 139, 124, 84, 121, 137, 97, 138, 145, 111, 135, 113, 142, 102, 114, 135, 105, 145, 73, 110, 81, 112, 113, 105, 72, 141, 81, 147, 129, 135, 87, 118, 129, 115, 113, 110, 115, 127, 126, 113, 99, 110, 106, 141, 79, 106, 141, 98, 112, 133, 99, 102, 114, 106, 97, 108, 122, 113, 138, 123, 122, 102, 118, 101, 147, 117, 142, 147, 134, 77, 140, 116, 74, 139, 115, 74, 86, 88, 118, 92, 111, 118, 145, 110, 107, 83, 78, 95, 108, 111, 84, 91, 103, 72, 77, 133, 111, 109, 76, 137, 72, 80, 132, 115, 106, 112, 148, 133, 141, 138, 119, 98, 89, 129, 107, 92, 78, 112, 118, 82, 94, 127, 147, 80, 90, 146, 138, 80, 104, 92, 84, 91, 129, 129, 98, 149, 109]\n",
      "Jumlah yang mendapatkan nilai lebih dari 70 adalah: 148\n"
     ]
    }
   ],
   "source": [
    "#2.Menampilkan berapa banyak yang mendapatkan nilai lebih dari 70\n",
    "greaterThan70=[]\n",
    "for gt in taskValue:\n",
    "    if gt>70:\n",
    "        greaterThan70.append(gt)\n",
    "print (\"List dari nilai yang lebih dari 70 adalah:\")\n",
    "print (greaterThan70)\n",
    "print (\"Jumlah yang mendapatkan nilai lebih dari 70 adalah:\",len(greaterThan70))"
   ]
  },
  {
   "cell_type": "markdown",
   "metadata": {},
   "source": [
    "# Standar Deviasi"
   ]
  },
  {
   "cell_type": "code",
   "execution_count": 19,
   "metadata": {},
   "outputs": [
    {
     "name": "stdout",
     "output_type": "stream",
     "text": [
      "Nilai Rata-Rata\t= 51.64\n",
      "Sigma   \t= 203327.59999999998\n",
      "Standar Deviasi\t= 28.518597440968236\n"
     ]
    }
   ],
   "source": [
    "#3. Menampilkan standar deviasi dari sekumpulan nilai tersebut\n",
    "total =0\n",
    "for a in taskValue:\n",
    "    total=total+a\n",
    "    average=total/len(taskValue)\n",
    "    \n",
    "print (\"Nilai Rata-Rata\\t=\",average)\n",
    "\n",
    "sigma=0\n",
    "\n",
    "for each in taskValue:\n",
    "    s=(each-average)**2\n",
    "    sigma=sigma+s\n",
    "print(\"Sigma   \\t=\",sigma)\n",
    "    \n",
    "sd=((sigma/len(taskValue))**0.5)\n",
    "print(\"Standar Deviasi\\t=\",sd)"
   ]
  },
  {
   "cell_type": "markdown",
   "metadata": {},
   "source": [
    "# Nilai Maksimum dan Minimum"
   ]
  },
  {
   "cell_type": "code",
   "execution_count": 20,
   "metadata": {},
   "outputs": [
    {
     "name": "stdout",
     "output_type": "stream",
     "text": [
      "Nilai Maximum \t= 99\n",
      "Nilai Minimum  \t= 1\n"
     ]
    }
   ],
   "source": [
    "##4. Tampilkan nilai maksimum dan minimum\n",
    "maxValue=taskValue[0]\n",
    "\n",
    "for x in taskValue:\n",
    "    if x>maxValue:\n",
    "        maxValue=x\n",
    "print (\"Nilai Maximum \\t=\",maxValue)\n",
    "    \n",
    "minValue=taskValue[0]\n",
    "\n",
    "for n in taskValue:\n",
    "    if n<minValue:\n",
    "        minValue=n\n",
    "print (\"Nilai Minimum  \\t=\",minValue)"
   ]
  },
  {
   "cell_type": "markdown",
   "metadata": {},
   "source": [
    "# Nilai Modus dan Berapa banyak Kemunculan"
   ]
  },
  {
   "cell_type": "code",
   "execution_count": 21,
   "metadata": {},
   "outputs": [
    {
     "name": "stdout",
     "output_type": "stream",
     "text": [
      "Nilai Modus = 73 Muncul Sebanyak 7 Kali\n"
     ]
    }
   ],
   "source": [
    "##5. Menampilkan modus dari sekumpulan nilai tersebut\n",
    "nilaiModus=taskValue[0]\n",
    "muncul=taskValue.count(nilaiModus)\n",
    "\n",
    "for x in taskValue:\n",
    "    munculfor=taskValue.count(x)\n",
    "    if munculfor>muncul:\n",
    "        nilaiModus=x\n",
    "        muncul=munculfor\n",
    "        \n",
    "print(\"Nilai Modus =\", nilaiModus,\"Muncul Sebanyak\",muncul,\"Kali\")"
   ]
  },
  {
   "cell_type": "code",
   "execution_count": null,
   "metadata": {},
   "outputs": [],
   "source": []
  }
 ],
 "metadata": {
  "kernelspec": {
   "display_name": "Python 3",
   "language": "python",
   "name": "python3"
  },
  "language_info": {
   "codemirror_mode": {
    "name": "ipython",
    "version": 3
   },
   "file_extension": ".py",
   "mimetype": "text/x-python",
   "name": "python",
   "nbconvert_exporter": "python",
   "pygments_lexer": "ipython3",
   "version": "3.7.0"
  }
 },
 "nbformat": 4,
 "nbformat_minor": 2
}
