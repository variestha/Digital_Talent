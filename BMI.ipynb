{
 "cells": [
  {
   "cell_type": "code",
   "execution_count": 17,
   "metadata": {},
   "outputs": [
    {
     "name": "stdout",
     "output_type": "stream",
     "text": [
      "Tinggi Anda Adalah 159.0 cm\n",
      "Berat Anda Adalah 58.0 kg\n",
      "Nilai Body Mass Index (BMI) adalah  22.942130453700404\n",
      "Maka Nilai BMI Anda Termasuk Dalam Kategori Normal(Healthy Weight) Dengan Nilai : 22.942130453700404\n"
     ]
    }
   ],
   "source": [
    "tinggi_badan_cm=159.0\n",
    "berat_badan_kg=58.0\n",
    "height=0.01*tinggi_badan_cm\n",
    "bmi=berat_badan_kg/(height**2)\n",
    "\n",
    "\n",
    "print (\"Tinggi Anda Adalah\", (tinggi_badan_cm),\"cm\")\n",
    "print (\"Berat Anda Adalah\", (berat_badan_kg),\"kg\")\n",
    "print (\"Nilai Body Mass Index (BMI) adalah \", (bmi))\n",
    "\n",
    "\n",
    "if bmi<15:\n",
    "    print(\"Maka Nilai BMI Anda Termasuk Dalam Kategori Very severely underweight Dengan Nilai :\",bmi)\n",
    "elif bmi>=15 and bmi<16:\n",
    "    print(\"Maka Nilai BMI Anda Termasuk Dalam Kategori Severely underweight Dengan Nilai :\",bmi)\n",
    "elif bmi>=16 and bmi<18.5:\n",
    "    print(\"Maka Nilai BMI Anda Termasuk Dalam Kategori Underweight Dengan Nilai :\",bmi)\n",
    "elif bmi>=18.5 and bmi<25:\n",
    "    print(\"Maka Nilai BMI Anda Termasuk Dalam Kategori Normal(Healthy Weight) Dengan Nilai :\",bmi)\n",
    "elif bmi>=25 and bmi<30:\n",
    "    print(\"Maka Nilai BMI Anda Termasuk Dalam Kategori Overweight Dengan Nilai :\",bmi)\n",
    "elif bmi>=30 and bmi<35: \n",
    "    print(\"Maka Nilai BMI Anda Termasuk Dalam Kategori Moderately obese Dengan Nilai :\",bmi)\n",
    "elif bmi>=35 and bmi<40:\n",
    "    print(\"Maka Nilai BMI Anda Termasuk Dalam Kategori Severly obese Dengan Nilai :\",bmi)\n",
    "elif bmi>40:\n",
    "    print(\"Maka Nilai BMI Anda Termasuk Dalam Kategoris Very severly obese Dengan Nilai :\",bmi)\n",
    "    \n",
    "else :\n",
    "    print(\"Tidak terdefinisi\")"
   ]
  },
  {
   "cell_type": "code",
   "execution_count": null,
   "metadata": {},
   "outputs": [],
   "source": []
  }
 ],
 "metadata": {
  "kernelspec": {
   "display_name": "Python 3",
   "language": "python",
   "name": "python3"
  },
  "language_info": {
   "codemirror_mode": {
    "name": "ipython",
    "version": 3
   },
   "file_extension": ".py",
   "mimetype": "text/x-python",
   "name": "python",
   "nbconvert_exporter": "python",
   "pygments_lexer": "ipython3",
   "version": "3.7.0"
  }
 },
 "nbformat": 4,
 "nbformat_minor": 2
}
