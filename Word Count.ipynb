{
 "cells": [
  {
   "cell_type": "code",
   "execution_count": 15,
   "metadata": {},
   "outputs": [
    {
     "name": "stdout",
     "output_type": "stream",
     "text": [
      "- Barcelona  : Sebanyak 4 kali\n",
      "- berhasil  : Sebanyak 1 kali\n",
      "- merebut  : Sebanyak 1 kali\n",
      "- posisi  : Sebanyak 1 kali\n",
      "- puncak  : Sebanyak 1 kali\n",
      "- klasemen  : Sebanyak 1 kali\n",
      "- La  : Sebanyak 1 kali\n",
      "- Liga  : Sebanyak 1 kali\n",
      "- Spanyol  : Sebanyak 1 kali\n",
      "- seusai  : Sebanyak 1 kali\n",
      "- menang  : Sebanyak 1 kali\n",
      "- 4-2  : Sebanyak 1 kali\n",
      "- atas  : Sebanyak 1 kali\n",
      "- Sevilla  : Sebanyak 1 kali\n",
      "- pada  : Sebanyak 3 kali\n",
      "- pertandingan  : Sebanyak 1 kali\n",
      "- pekan  : Sebanyak 1 kali\n",
      "- kesembilan  : Sebanyak 1 kali\n",
      "- di  : Sebanyak 1 kali\n",
      "- Stadion  : Sebanyak 1 kali\n",
      "- Camp  : Sebanyak 1 kali\n",
      "- Nou  : Sebanyak 1 kali\n",
      "- Sabtu  : Sebanyak 1 kali\n",
      "- (20/10/2018)  : Sebanyak 1 kali\n",
      "- atau  : Sebanyak 1 kali\n",
      "- Minggu  : Sebanyak 1 kali\n",
      "- dini  : Sebanyak 1 kali\n",
      "- hari  : Sebanyak 1 kali\n",
      "- WIB  : Sebanyak 1 kali\n",
      "- membuka  : Sebanyak 1 kali\n",
      "- keunggulan  : Sebanyak 2 kali\n",
      "- menit  : Sebanyak 3 kali\n",
      "- ke-2  : Sebanyak 1 kali\n",
      "- melalui  : Sebanyak 1 kali\n",
      "- gol  : Sebanyak 1 kali\n",
      "- yang  : Sebanyak 1 kali\n",
      "- dicetak  : Sebanyak 1 kali\n",
      "- oleh  : Sebanyak 1 kali\n",
      "- Philippe  : Sebanyak 1 kali\n",
      "- Coutinho  : Sebanyak 1 kali\n",
      "- Lionel  : Sebanyak 1 kali\n",
      "- Messi  : Sebanyak 3 kali\n",
      "- menggandakan  : Sebanyak 1 kali\n",
      "- 10  : Sebanyak 1 kali\n",
      "- berselang  : Sebanyak 1 kali\n",
      "- Namun  : Sebanyak 1 kali\n",
      "- nahas  : Sebanyak 1 kali\n",
      "- bagi  : Sebanyak 1 kali\n",
      "- karena  : Sebanyak 1 kali\n",
      "- harus  : Sebanyak 1 kali\n",
      "- ditarik  : Sebanyak 1 kali\n",
      "- keluar  : Sebanyak 1 kali\n",
      "- ke-26  : Sebanyak 1 kali\n",
      "- setelah  : Sebanyak 1 kali\n",
      "- mengalami  : Sebanyak 1 kali\n",
      "- cedera  : Sebanyak 1 kali\n",
      "- Tanpa  : Sebanyak 1 kali\n",
      "- skor  : Sebanyak 1 kali\n",
      "- 2-0  : Sebanyak 1 kali\n",
      "- bertahan  : Sebanyak 1 kali\n",
      "- hingga  : Sebanyak 1 kali\n",
      "- babak  : Sebanyak 1 kali\n",
      "- pertama  : Sebanyak 1 kali\n",
      "- berakhir  : Sebanyak 1 kali\n"
     ]
    }
   ],
   "source": [
    "\n",
    "words={}\n",
    "paragraf=\"Barcelona berhasil merebut posisi puncak klasemen La Liga Spanyol seusai menang 4-2 atas Sevilla pada pertandingan pekan kesembilan di Stadion Camp Nou, Sabtu (20/10/2018) atau Minggu dini hari WIB. Barcelona membuka keunggulan pada menit ke-2 melalui gol yang dicetak oleh Philippe Coutinho. Lionel Messi menggandakan keunggulan Barcelona, 10 menit berselang.  Namun, nahas bagi Barcelona, karena Messi harus ditarik keluar pada menit ke-26 setelah mengalami cedera. Tanpa Messi, skor 2-0 bertahan hingga babak pertama berakhir.\" \n",
    "paragraf=paragraf.replace(\",\",\"\")\n",
    "paragraf=paragraf.replace(\".\",\"\")\n",
    "paragraf=paragraf.split()\n",
    "for kata in paragraf:\n",
    "    if kata in words:\n",
    "        words[kata]+=1\n",
    "    else:\n",
    "        words[kata]=1\n",
    "for w,k in words.items():\n",
    "    print(\"-\",w,\"\",\":\",\"Sebanyak\",k,'kali')"
   ]
  },
  {
   "cell_type": "code",
   "execution_count": null,
   "metadata": {},
   "outputs": [],
   "source": []
  }
 ],
 "metadata": {
  "kernelspec": {
   "display_name": "Python 3",
   "language": "python",
   "name": "python3"
  },
  "language_info": {
   "codemirror_mode": {
    "name": "ipython",
    "version": 3
   },
   "file_extension": ".py",
   "mimetype": "text/x-python",
   "name": "python",
   "nbconvert_exporter": "python",
   "pygments_lexer": "ipython3",
   "version": "3.7.0"
  }
 },
 "nbformat": 4,
 "nbformat_minor": 2
}
